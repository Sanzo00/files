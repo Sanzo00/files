{
 "cells": [
  {
   "cell_type": "markdown",
   "metadata": {},
   "source": [
    "## numpy属性"
   ]
  },
  {
   "cell_type": "code",
   "execution_count": 1,
   "metadata": {},
   "outputs": [
    {
     "name": "stdout",
     "output_type": "stream",
     "text": [
      "[[1 2 3]\n",
      " [2 3 4]]\n",
      "number of dimenson: 2\n",
      "shape: (2, 3)\n",
      "size: 6\n"
     ]
    }
   ],
   "source": [
    "import numpy as np\n",
    "\n",
    "array = np.array([[1,2,3],[2,3,4]])\n",
    "print(array)\n",
    "# 维度\n",
    "print('number of dimenson:', array.ndim)\n",
    "\n",
    "# 形状\n",
    "print('shape:', array.shape)\n",
    "\n",
    "# 元素个数\n",
    "print('size:', array.size)"
   ]
  },
  {
   "cell_type": "markdown",
   "metadata": {},
   "source": [
    "## 创建数组"
   ]
  },
  {
   "cell_type": "code",
   "execution_count": 2,
   "metadata": {},
   "outputs": [
    {
     "name": "stdout",
     "output_type": "stream",
     "text": [
      "float64\n",
      "[1. 2. 3.]\n"
     ]
    }
   ],
   "source": [
    "# 指定数据类型\n",
    "a = np.array([1, 2, 3], dtype=np.float)\n",
    "print(a.dtype)\n",
    "print(a)"
   ]
  },
  {
   "cell_type": "code",
   "execution_count": 3,
   "metadata": {},
   "outputs": [
    {
     "name": "stdout",
     "output_type": "stream",
     "text": [
      "[[0 0 0 0]\n",
      " [0 0 0 0]\n",
      " [0 0 0 0]]\n"
     ]
    }
   ],
   "source": [
    "# 全0矩阵\n",
    "a = np.zeros((3, 4), dtype=np.int)\n",
    "print(a)"
   ]
  },
  {
   "cell_type": "code",
   "execution_count": 4,
   "metadata": {},
   "outputs": [
    {
     "name": "stdout",
     "output_type": "stream",
     "text": [
      "[[1. 1. 1. 1.]\n",
      " [1. 1. 1. 1.]\n",
      " [1. 1. 1. 1.]]\n"
     ]
    }
   ],
   "source": [
    "# 全1矩阵\n",
    "a = np.ones((3, 4))\n",
    "print(a)"
   ]
  },
  {
   "cell_type": "code",
   "execution_count": 5,
   "metadata": {},
   "outputs": [
    {
     "name": "stdout",
     "output_type": "stream",
     "text": [
      "[[1. 1. 1. 1.]\n",
      " [1. 1. 1. 1.]\n",
      " [1. 1. 1. 1.]]\n"
     ]
    }
   ],
   "source": [
    "# 未初始化的矩阵\n",
    "a = np.empty((3, 4))\n",
    "print(a)"
   ]
  },
  {
   "cell_type": "code",
   "execution_count": 6,
   "metadata": {},
   "outputs": [
    {
     "name": "stdout",
     "output_type": "stream",
     "text": [
      "[10 12 14 16 18]\n"
     ]
    }
   ],
   "source": [
    "# 指定元素范围，[10， 20) 步长为2\n",
    "a = np.arange(10, 20, 2)\n",
    "print(a)"
   ]
  },
  {
   "cell_type": "code",
   "execution_count": 7,
   "metadata": {},
   "outputs": [
    {
     "name": "stdout",
     "output_type": "stream",
     "text": [
      "[[0 1]\n",
      " [2 3]\n",
      " [4 5]\n",
      " [6 7]\n",
      " [8 9]]\n"
     ]
    }
   ],
   "source": [
    "# 指定矩阵形状\n",
    "a = np.arange(10).reshape((5, 2))\n",
    "print(a)"
   ]
  },
  {
   "cell_type": "code",
   "execution_count": 8,
   "metadata": {},
   "outputs": [
    {
     "name": "stdout",
     "output_type": "stream",
     "text": [
      "[[ 1.   2.8  4.6]\n",
      " [ 6.4  8.2 10. ]]\n"
     ]
    }
   ],
   "source": [
    "# 等差数列，[1,10]分成3份\n",
    "a = np.linspace(1, 10, 6).reshape((2, 3))\n",
    "print(a)"
   ]
  },
  {
   "cell_type": "markdown",
   "metadata": {},
   "source": [
    "## 基础运算"
   ]
  },
  {
   "cell_type": "code",
   "execution_count": 9,
   "metadata": {},
   "outputs": [
    {
     "name": "stdout",
     "output_type": "stream",
     "text": [
      "a: [10 20 30 40]\n",
      "b: [1 2 3 4]\n",
      "a+b: [11 22 33 44]\n",
      "a-b: [ 9 18 27 36]\n",
      "a*b: [ 10  40  90 160]\n",
      "a/b: [10. 10. 10. 10.]\n",
      "a^3: [ 100  400  900 1600]\n"
     ]
    }
   ],
   "source": [
    "# 数组的加减乘除\n",
    "a = np.array([10, 20, 30, 40])\n",
    "b = np.array([1, 2, 3, 4])\n",
    "print('a:', a)\n",
    "print('b:', b)\n",
    "\n",
    "c = a + b\n",
    "print('a+b:', c)\n",
    "\n",
    "c = a - b\n",
    "print('a-b:', c)\n",
    "\n",
    "c = a * b\n",
    "print('a*b:', c)\n",
    "\n",
    "c = a / b\n",
    "print('a/b:', c)\n",
    "\n",
    "c = a**2\n",
    "print('a^3:', c)"
   ]
  },
  {
   "cell_type": "code",
   "execution_count": 10,
   "metadata": {},
   "outputs": [
    {
     "name": "stdout",
     "output_type": "stream",
     "text": [
      "3.141592653589793\n",
      "a: [0.52359878 0.78539816 1.04719755 1.57079633]\n",
      "[0.5        0.70710678 0.8660254  1.        ]\n",
      "[8.66025404e-01 7.07106781e-01 5.00000000e-01 6.12323400e-17]\n",
      "[5.77350269e-01 1.00000000e+00 1.73205081e+00 1.63312394e+16]\n"
     ]
    }
   ],
   "source": [
    "# 三角函数\n",
    "a = np.array([30, 45, 60, 90]) # 默认弧度制\n",
    "pi = np.arcsin(1)*2\n",
    "print(np.pi)\n",
    "\n",
    "a = np.multiply(a, pi/180)\n",
    "\n",
    "print('a:', a)\n",
    "\n",
    "c = np.sin(a)\n",
    "print(c)\n",
    "\n",
    "c = np.cos(a)\n",
    "print(c)\n",
    "\n",
    "c = np.tan(a)\n",
    "print(c)"
   ]
  },
  {
   "cell_type": "code",
   "execution_count": 11,
   "metadata": {},
   "outputs": [
    {
     "name": "stdout",
     "output_type": "stream",
     "text": [
      "[[0.33028884 0.20715399 0.67513249 0.7976253 ]\n",
      " [0.09172116 0.65765596 0.04538128 0.36034413]]\n",
      "min: 0.045381281632210335\n",
      "max: 0.7976253001665536\n",
      "sum: 3.165303150763041\n",
      "min in each col: [0.09172116 0.20715399 0.04538128 0.36034413]\n",
      "min in each row: [0.20715399 0.04538128]\n"
     ]
    }
   ],
   "source": [
    "# 随机生成矩阵\n",
    "a = np.random.random((2, 4))\n",
    "print(a)\n",
    "print('min:', np.min(a))\n",
    "print('max:', np.max(a))\n",
    "print('sum:', np.sum(a))\n",
    "\n",
    "# 1: 行 0: 列\n",
    "print('min in each col:', np.min(a, axis=0))\n",
    "print('min in each row:', np.min(a, axis=1))"
   ]
  },
  {
   "cell_type": "code",
   "execution_count": 12,
   "metadata": {},
   "outputs": [
    {
     "name": "stdout",
     "output_type": "stream",
     "text": [
      "[[ 1  2  3  4]\n",
      " [ 5  6  7  8]\n",
      " [ 9 10 11 12]]\n",
      "0\n",
      "11\n"
     ]
    }
   ],
   "source": [
    "# 数值运算\n",
    "a = np.arange(1, 13).reshape(3, 4)\n",
    "print(a)\n",
    "\n",
    "# 最小值索引\n",
    "print(np.argmin(a))\n",
    "\n",
    "# 最大值索引\n",
    "print(np.argmax(a))"
   ]
  },
  {
   "cell_type": "code",
   "execution_count": 13,
   "metadata": {},
   "outputs": [
    {
     "name": "stdout",
     "output_type": "stream",
     "text": [
      "6.5\n",
      "6.5\n",
      "6.5\n"
     ]
    }
   ],
   "source": [
    "# 平均值\n",
    "print(np.average(a))\n",
    "print(np.mean(a))\n",
    "print(a.mean())"
   ]
  },
  {
   "cell_type": "code",
   "execution_count": 14,
   "metadata": {},
   "outputs": [
    {
     "name": "stdout",
     "output_type": "stream",
     "text": [
      "6.5\n"
     ]
    }
   ],
   "source": [
    "# 中位数\n",
    "print(np.median(a))"
   ]
  },
  {
   "cell_type": "code",
   "execution_count": 15,
   "metadata": {},
   "outputs": [
    {
     "name": "stdout",
     "output_type": "stream",
     "text": [
      "[ 1  3  6 10 15 21 28 36 45 55 66 78]\n"
     ]
    }
   ],
   "source": [
    "# 前缀和\n",
    "print(np.cumsum(a))"
   ]
  },
  {
   "cell_type": "code",
   "execution_count": 16,
   "metadata": {},
   "outputs": [
    {
     "name": "stdout",
     "output_type": "stream",
     "text": [
      "[[1 1 1]\n",
      " [1 1 1]\n",
      " [1 1 1]]\n"
     ]
    }
   ],
   "source": [
    "# 一阶差\n",
    "print(np.diff(a))"
   ]
  },
  {
   "cell_type": "code",
   "execution_count": 17,
   "metadata": {},
   "outputs": [
    {
     "name": "stdout",
     "output_type": "stream",
     "text": [
      "(array([0, 0, 0, 0, 1, 1, 1, 1, 2, 2, 2, 2], dtype=int64), array([0, 1, 2, 3, 0, 1, 2, 3, 0, 1, 2, 3], dtype=int64))\n"
     ]
    }
   ],
   "source": [
    "# 非零的坐标\n",
    "print(np.nonzero(a))"
   ]
  },
  {
   "cell_type": "code",
   "execution_count": 18,
   "metadata": {},
   "outputs": [
    {
     "name": "stdout",
     "output_type": "stream",
     "text": [
      "[[11 12 13 14]\n",
      " [ 7  8  9 10]\n",
      " [ 3  4  5  6]]\n"
     ]
    }
   ],
   "source": [
    "# 逐行排序\n",
    "a = np.arange(14, 2, -1).reshape(3,4)\n",
    "print(np.sort(a))"
   ]
  },
  {
   "cell_type": "code",
   "execution_count": 19,
   "metadata": {},
   "outputs": [
    {
     "name": "stdout",
     "output_type": "stream",
     "text": [
      "[[14 13 12 11]\n",
      " [10  9  8  7]\n",
      " [ 6  5  4  3]]\n",
      "[[10 10 10 10]\n",
      " [10  9  8  7]\n",
      " [ 6  5  5  5]]\n"
     ]
    }
   ],
   "source": [
    "# clip\n",
    "print(a)\n",
    "print(np.clip(a, 5, 10))"
   ]
  },
  {
   "cell_type": "markdown",
   "metadata": {},
   "source": [
    "## 矩阵运算"
   ]
  },
  {
   "cell_type": "code",
   "execution_count": 20,
   "metadata": {},
   "outputs": [
    {
     "name": "stdout",
     "output_type": "stream",
     "text": [
      "[[1 0]\n",
      " [1 2]]\n",
      "[[0 1]\n",
      " [2 3]]\n",
      "[[0 1]\n",
      " [4 7]]\n"
     ]
    }
   ],
   "source": [
    "# 矩阵相乘\n",
    "a = np.array([[1,0], [1,2]])\n",
    "b = np.arange(4).reshape(2,2)\n",
    "print(a)\n",
    "print(b)\n",
    "\n",
    "c = np.dot(a, b)\n",
    "# c = a.dot(b)\n",
    "print(c)"
   ]
  },
  {
   "cell_type": "code",
   "execution_count": 21,
   "metadata": {},
   "outputs": [
    {
     "name": "stdout",
     "output_type": "stream",
     "text": [
      "[[1 0]\n",
      " [1 2]]\n",
      "[[1 1]\n",
      " [0 2]]\n",
      "[[1 1]\n",
      " [0 2]]\n"
     ]
    }
   ],
   "source": [
    "# 矩阵转置\n",
    "print(a)\n",
    "print(np.transpose(a))\n",
    "print(a.T)"
   ]
  },
  {
   "cell_type": "markdown",
   "metadata": {},
   "source": [
    "## 索引"
   ]
  },
  {
   "cell_type": "code",
   "execution_count": 22,
   "metadata": {},
   "outputs": [
    {
     "name": "stdout",
     "output_type": "stream",
     "text": [
      "[[ 1  2  3  4]\n",
      " [ 5  6  7  8]\n",
      " [ 9 10 11 12]]\n",
      "[5 6 7 8]\n",
      "[5 6 7 8]\n"
     ]
    }
   ],
   "source": [
    "a = np.arange(1, 13).reshape(3, 4)\n",
    "print(a)\n",
    "\n",
    "# 第1行\n",
    "print(a[1])\n",
    "print(a[1, :])"
   ]
  },
  {
   "cell_type": "code",
   "execution_count": 23,
   "metadata": {},
   "outputs": [
    {
     "name": "stdout",
     "output_type": "stream",
     "text": [
      "[ 2  6 10]\n"
     ]
    }
   ],
   "source": [
    "# 第1列\n",
    "print(a[:,1])"
   ]
  },
  {
   "cell_type": "code",
   "execution_count": 24,
   "metadata": {},
   "outputs": [
    {
     "name": "stdout",
     "output_type": "stream",
     "text": [
      "[6 7]\n"
     ]
    }
   ],
   "source": [
    "# 第1行的[1,3)\n",
    "print(a[1, 1:3])"
   ]
  },
  {
   "cell_type": "code",
   "execution_count": 25,
   "metadata": {},
   "outputs": [
    {
     "name": "stdout",
     "output_type": "stream",
     "text": [
      "12\n",
      "12\n"
     ]
    }
   ],
   "source": [
    "# 第（2，3）\n",
    "print(a[2][3])\n",
    "print(a[2, 3])"
   ]
  },
  {
   "cell_type": "code",
   "execution_count": 26,
   "metadata": {},
   "outputs": [
    {
     "name": "stdout",
     "output_type": "stream",
     "text": [
      "[1 2 3 4]\n",
      "[5 6 7 8]\n",
      "[ 9 10 11 12]\n"
     ]
    }
   ],
   "source": [
    "# 迭代行\n",
    "for row in a:\n",
    "    print(row)"
   ]
  },
  {
   "cell_type": "code",
   "execution_count": 27,
   "metadata": {},
   "outputs": [
    {
     "name": "stdout",
     "output_type": "stream",
     "text": [
      "[1 5 9]\n",
      "[ 2  6 10]\n",
      "[ 3  7 11]\n",
      "[ 4  8 12]\n"
     ]
    }
   ],
   "source": [
    "# 迭代列\n",
    "for row in a.T:\n",
    "    print(row)"
   ]
  },
  {
   "cell_type": "code",
   "execution_count": 28,
   "metadata": {},
   "outputs": [
    {
     "name": "stdout",
     "output_type": "stream",
     "text": [
      "[ 1  2  3  4  5  6  7  8  9 10 11 12]\n",
      "1\n",
      "2\n",
      "3\n",
      "4\n",
      "5\n",
      "6\n",
      "7\n",
      "8\n",
      "9\n",
      "10\n",
      "11\n",
      "12\n"
     ]
    }
   ],
   "source": [
    "# 迭代每一个元素\n",
    "print(a.flatten())\n",
    "\n",
    "for item in a.flat:\n",
    "    print(item)"
   ]
  },
  {
   "cell_type": "markdown",
   "metadata": {},
   "source": [
    "## array合并"
   ]
  },
  {
   "cell_type": "code",
   "execution_count": 29,
   "metadata": {},
   "outputs": [
    {
     "name": "stdout",
     "output_type": "stream",
     "text": [
      "[[1 1 1]\n",
      " [2 2 2]]\n",
      "[1 1 1 2 2 2]\n"
     ]
    }
   ],
   "source": [
    "A = np.array([1, 1, 1])\n",
    "B = np.array([2, 2, 2])\n",
    "\n",
    "# 垂直合并\n",
    "C = np.vstack((A, B))\n",
    "print(C)\n",
    "\n",
    "# 水平合并\n",
    "D = np.hstack((A, B))\n",
    "print(D)"
   ]
  },
  {
   "cell_type": "code",
   "execution_count": 30,
   "metadata": {},
   "outputs": [
    {
     "name": "stdout",
     "output_type": "stream",
     "text": [
      "[1 1 1]\n",
      "[[1 1 1]]\n"
     ]
    }
   ],
   "source": [
    "# 数组转为行向量\n",
    "print(A)\n",
    "A = A[np.newaxis, :]\n",
    "print(A)"
   ]
  },
  {
   "cell_type": "code",
   "execution_count": 31,
   "metadata": {},
   "outputs": [
    {
     "name": "stdout",
     "output_type": "stream",
     "text": [
      "[2 2 2]\n",
      "[[2]\n",
      " [2]\n",
      " [2]]\n"
     ]
    }
   ],
   "source": [
    "# 数组转为列向量\n",
    "print(B)\n",
    "B = B[:, np.newaxis]\n",
    "print(B)"
   ]
  },
  {
   "cell_type": "code",
   "execution_count": 32,
   "metadata": {},
   "outputs": [
    {
     "name": "stdout",
     "output_type": "stream",
     "text": [
      "[[1]\n",
      " [1]\n",
      " [1]]\n",
      "[[2]\n",
      " [2]\n",
      " [2]]\n",
      "[[1]\n",
      " [1]\n",
      " [1]\n",
      " [2]\n",
      " [2]\n",
      " [2]\n",
      " [2]\n",
      " [2]\n",
      " [2]\n",
      " [1]\n",
      " [1]\n",
      " [1]]\n",
      "[[1 2 2 1]\n",
      " [1 2 2 1]\n",
      " [1 2 2 1]]\n"
     ]
    }
   ],
   "source": [
    "# concatenate合并\n",
    "A = np.array([1, 1, 1])[:, np.newaxis]\n",
    "B = np.array([2, 2, 2])[:, np.newaxis]\n",
    "print(A)\n",
    "print(B)\n",
    "\n",
    "# 垂直合并\n",
    "C = np.concatenate((A,B,B,A), axis=0)\n",
    "\n",
    "# 水平合并\n",
    "D = np.concatenate((A,B,B,A), axis=1)\n",
    "print(C)\n",
    "print(D)"
   ]
  },
  {
   "cell_type": "markdown",
   "metadata": {},
   "source": [
    "## array分割"
   ]
  },
  {
   "cell_type": "code",
   "execution_count": 33,
   "metadata": {},
   "outputs": [
    {
     "name": "stdout",
     "output_type": "stream",
     "text": [
      "[[ 0  1  2  3]\n",
      " [ 4  5  6  7]\n",
      " [ 8  9 10 11]]\n",
      "[array([[0, 1, 2, 3]]), array([[4, 5, 6, 7]]), array([[ 8,  9, 10, 11]])]\n",
      "[array([[0, 1, 2, 3]]), array([[4, 5, 6, 7]]), array([[ 8,  9, 10, 11]])]\n",
      "[array([[0, 1],\n",
      "       [4, 5],\n",
      "       [8, 9]]), array([[ 2,  3],\n",
      "       [ 6,  7],\n",
      "       [10, 11]])]\n",
      "[array([[0, 1],\n",
      "       [4, 5],\n",
      "       [8, 9]]), array([[ 2,  3],\n",
      "       [ 6,  7],\n",
      "       [10, 11]])]\n"
     ]
    }
   ],
   "source": [
    "# 等量分割\n",
    "A = np.arange(12).reshape((3, 4))\n",
    "print(A)\n",
    "\n",
    "# 上下分割成3份\n",
    "print(np.split(A, 3, axis=0))\n",
    "print(np.vsplit(A, 3))\n",
    "\n",
    "# 左右分割2份\n",
    "print(np.split(A, 2, axis=1))\n",
    "print(np.hsplit(A, 2))"
   ]
  },
  {
   "cell_type": "code",
   "execution_count": 34,
   "metadata": {},
   "outputs": [
    {
     "name": "stdout",
     "output_type": "stream",
     "text": [
      "[[ 0  1  2  3]\n",
      " [ 4  5  6  7]\n",
      " [ 8  9 10 11]]\n",
      "[array([[0, 1],\n",
      "       [4, 5],\n",
      "       [8, 9]]), array([[ 2],\n",
      "       [ 6],\n",
      "       [10]]), array([[ 3],\n",
      "       [ 7],\n",
      "       [11]])]\n"
     ]
    }
   ],
   "source": [
    "# 不等量分割\n",
    "print(A)\n",
    "t = np.array_split(A, 3, axis=1)\n",
    "print(np.array_split(A, 3, axis=1))"
   ]
  },
  {
   "cell_type": "markdown",
   "metadata": {},
   "source": [
    "## copy"
   ]
  },
  {
   "cell_type": "code",
   "execution_count": 38,
   "metadata": {},
   "outputs": [
    {
     "name": "stdout",
     "output_type": "stream",
     "text": [
      "[0 5 2 3]\n",
      "[0 5 2 3]\n"
     ]
    }
   ],
   "source": [
    "# 默认浅拷贝\n",
    "a = np.arange(4)\n",
    "b = a\n",
    "a[1] = 5\n",
    "\n",
    "print(a)\n",
    "print(b)"
   ]
  },
  {
   "cell_type": "code",
   "execution_count": 39,
   "metadata": {},
   "outputs": [
    {
     "name": "stdout",
     "output_type": "stream",
     "text": [
      "[0 5 2 3]\n",
      "[0 1 2 3]\n"
     ]
    }
   ],
   "source": [
    "# 深拷贝\n",
    "a = np.arange(4)\n",
    "b = a.copy()\n",
    "a[1] = 5\n",
    "\n",
    "print(a)\n",
    "print(b)"
   ]
  }
 ],
 "metadata": {
  "kernelspec": {
   "display_name": "Python 3",
   "language": "python",
   "name": "python3"
  },
  "language_info": {
   "codemirror_mode": {
    "name": "ipython",
    "version": 3
   },
   "file_extension": ".py",
   "mimetype": "text/x-python",
   "name": "python",
   "nbconvert_exporter": "python",
   "pygments_lexer": "ipython3",
   "version": "3.7.5"
  }
 },
 "nbformat": 4,
 "nbformat_minor": 2
}
